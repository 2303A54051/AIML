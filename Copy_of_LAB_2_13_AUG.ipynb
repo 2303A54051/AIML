{
  "nbformat": 4,
  "nbformat_minor": 0,
  "metadata": {
    "colab": {
      "provenance": [],
      "authorship_tag": "ABX9TyMLMtoGFbcFg7p0mZ3YtA3Y",
      "include_colab_link": true
    },
    "kernelspec": {
      "name": "python3",
      "display_name": "Python 3"
    },
    "language_info": {
      "name": "python"
    }
  },
  "cells": [
    {
      "cell_type": "markdown",
      "metadata": {
        "id": "view-in-github",
        "colab_type": "text"
      },
      "source": [
        "<a href=\"https://colab.research.google.com/github/2303A54051/AIML/blob/main/Copy_of_LAB_2_13_AUG.ipynb\" target=\"_parent\"><img src=\"https://colab.research.google.com/assets/colab-badge.svg\" alt=\"Open In Colab\"/></a>"
      ]
    },
    {
      "cell_type": "code",
      "execution_count": null,
      "metadata": {
        "id": "IVzzq7Z846MC"
      },
      "outputs": [],
      "source": [
        "import  numpy as np\n",
        "import pandas as pd"
      ]
    },
    {
      "cell_type": "code",
      "source": [
        "from google.colab import drive\n",
        "drive.mount('/content/drive')"
      ],
      "metadata": {
        "colab": {
          "base_uri": "https://localhost:8080/"
        },
        "id": "u5PqGYBv5u4g",
        "outputId": "373c7596-64d4-42bc-80b0-f5fcad74c6ed"
      },
      "execution_count": 1,
      "outputs": [
        {
          "output_type": "stream",
          "name": "stdout",
          "text": [
            "Mounted at /content/drive\n"
          ]
        }
      ]
    },
    {
      "cell_type": "code",
      "source": [
        "df = pd.read_table(\"/content/drive/MyDrive/pp.txt\")"
      ],
      "metadata": {
        "id": "fFcFF0_Q7Qp3"
      },
      "execution_count": null,
      "outputs": []
    },
    {
      "cell_type": "code",
      "source": [
        "df1 = pd.read_csv(\"/content/drive/MyDrive/Spd.csv\")"
      ],
      "metadata": {
        "id": "U6Nh62Oo7adK"
      },
      "execution_count": null,
      "outputs": []
    },
    {
      "cell_type": "code",
      "source": [
        "df2 = pd.read_excel(\"/content/drive/MyDrive/Historicalinvesttemp.xlsx\")"
      ],
      "metadata": {
        "id": "vNo0a6Zv9INM"
      },
      "execution_count": null,
      "outputs": []
    },
    {
      "cell_type": "code",
      "source": [
        "import numpy as np\n",
        "from queue import Queue"
      ],
      "metadata": {
        "id": "p7gk9bu9CI9T"
      },
      "execution_count": null,
      "outputs": []
    },
    {
      "cell_type": "code",
      "source": [
        "#adj.list from graph\n",
        "graph = {\n",
        "    0: [1,2,3],\n",
        "    1: [0,2],\n",
        "    2: [0,1,3,5],\n",
        "    3: [0,2,4],\n",
        "    4: [3,5,7],\n",
        "    5: [2,4,6,7],\n",
        "    6: [5,7],\n",
        "    7: [4,5,6],\n",
        "}\n",
        "print(\"The adjacency list representing the graph is:\")\n",
        "print(graph)"
      ],
      "metadata": {
        "colab": {
          "base_uri": "https://localhost:8080/"
        },
        "id": "CeAPcYPX98kq",
        "outputId": "ba2146b3-8f10-40c6-fcc4-d5b6ed1abf45"
      },
      "execution_count": null,
      "outputs": [
        {
          "output_type": "stream",
          "name": "stdout",
          "text": [
            "The adjacency list representing the graph is:\n",
            "{0: [1, 2, 3], 1: [0, 2], 2: [0, 1, 3, 5], 3: [0, 2, 4], 4: [3, 5, 7], 5: [2, 4, 6, 7], 6: [5, 7], 7: [4, 5, 6]}\n"
          ]
        }
      ]
    },
    {
      "cell_type": "code",
      "source": [
        "def bfs(graph,source):\n",
        "  Q = Queue()\n",
        "  visited_vertices = set()\n",
        "  visited_vertices.add(source)\n",
        "  Q.put(source)\n",
        "  while not Q.empty():\n",
        "    vertex = Q.get()\n",
        "    print(vertex,end=\"-->\")\n",
        "    for u in graph[vertex]:\n",
        "      if u not in visited_vertices:\n",
        "        Q.put(u)\n",
        "        visited_vertices.add(u)\n",
        "print(\"BFS traversal of graph with source 0 is :\")\n",
        "bfs(graph,0)"
      ],
      "metadata": {
        "colab": {
          "base_uri": "https://localhost:8080/"
        },
        "id": "cLNDrd6NESca",
        "outputId": "7635c3b5-f9d8-4c04-8ad9-28912c0c0926"
      },
      "execution_count": null,
      "outputs": [
        {
          "output_type": "stream",
          "name": "stdout",
          "text": [
            "BFS traversal of graph with source 0 is :\n",
            "0-->1-->2-->3-->5-->4-->6-->7-->"
          ]
        }
      ]
    },
    {
      "cell_type": "code",
      "source": [
        "graph={\n",
        "    0:[1,2,3],\n",
        "    1:[0,2],\n",
        "    2:[0,1,3,5],\n",
        "    3:[0,2,4],\n",
        "    4:[3,5,7],\n",
        "    5:[2,4,6,7],\n",
        "    6:[5,7],\n",
        "    7:[4,5,6],\n",
        "    8:[]\n",
        "\n",
        "}\n",
        "print(\"The adjacency List representing the graph is: \")\n",
        "print(graph)"
      ],
      "metadata": {
        "id": "Xb57N4cjDtlq",
        "colab": {
          "base_uri": "https://localhost:8080/"
        },
        "outputId": "9c38a0c5-de56-4c03-ed8d-1bc2762370b7"
      },
      "execution_count": 2,
      "outputs": [
        {
          "output_type": "stream",
          "name": "stdout",
          "text": [
            "The adjacency List representing the graph is: \n",
            "{0: [1, 2, 3], 1: [0, 2], 2: [0, 1, 3, 5], 3: [0, 2, 4], 4: [3, 5, 7], 5: [2, 4, 6, 7], 6: [5, 7], 7: [4, 5, 6], 8: []}\n"
          ]
        }
      ]
    }
  ]
}